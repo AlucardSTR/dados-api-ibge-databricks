{
 "cells": [
  {
   "cell_type": "code",
   "execution_count": null,
   "metadata": {
    "application/vnd.databricks.v1+cell": {
     "cellMetadata": {
      "byteLimit": 2048000,
      "rowLimit": 10000
     },
     "inputWidgets": {},
     "nuid": "e1da0c77-4c4e-4bcc-80c6-42088e90f16c",
     "showTitle": false,
     "title": ""
    }
   },
   "outputs": [
    {
     "name": "stdout",
     "output_type": "stream",
     "text": [
      "\u001b[43mNote: you may need to restart the kernel using dbutils.library.restartPython() to use updated packages.\u001b[0m\n",
      "Requirement already satisfied: requests in /databricks/python3/lib/python3.10/site-packages (2.28.1)\n",
      "Requirement already satisfied: idna<4,>=2.5 in /databricks/python3/lib/python3.10/site-packages (from requests) (3.3)\n",
      "Requirement already satisfied: charset-normalizer<3,>=2 in /databricks/python3/lib/python3.10/site-packages (from requests) (2.0.4)\n",
      "Requirement already satisfied: urllib3<1.27,>=1.21.1 in /databricks/python3/lib/python3.10/site-packages (from requests) (1.26.11)\n",
      "Requirement already satisfied: certifi>=2017.4.17 in /databricks/python3/lib/python3.10/site-packages (from requests) (2022.9.14)\n",
      "\u001b[43mNote: you may need to restart the kernel using dbutils.library.restartPython() to use updated packages.\u001b[0m\n"
     ]
    }
   ],
   "source": [
    "# %pip install requests"
   ]
  },
  {
   "cell_type": "code",
   "execution_count": null,
   "metadata": {
    "application/vnd.databricks.v1+cell": {
     "cellMetadata": {
      "byteLimit": 2048000,
      "rowLimit": 10000
     },
     "inputWidgets": {},
     "nuid": "18557997-36ed-4feb-8a69-013634f38f7b",
     "showTitle": false,
     "title": ""
    }
   },
   "outputs": [],
   "source": [
    "import requests\n",
    "import pprint\n",
    "from pyspark.sql.types import StructType, StructField, StringType, IntegerType\n"
   ]
  },
  {
   "cell_type": "code",
   "execution_count": null,
   "metadata": {
    "application/vnd.databricks.v1+cell": {
     "cellMetadata": {
      "byteLimit": 2048000,
      "rowLimit": 10000
     },
     "inputWidgets": {},
     "nuid": "a301736e-4295-4944-88e4-bca89b61059c",
     "showTitle": false,
     "title": ""
    }
   },
   "outputs": [],
   "source": [
    "# Função para obter dados da API do IBGE\n",
    "def get_ibge_data(endpoint, params=None):\n",
    "    base_url = \"https://servicodados.ibge.gov.br/api/v3/\"\n",
    "    url = f\"{base_url}{endpoint}\"\n",
    "    response = requests.get(url, params=params)\n",
    "\n",
    "    if response.status_code == 200:\n",
    "        dados = response.json()\n",
    "        return dados\n",
    "    else:\n",
    "        print(f\"Erro na requisição: {response.status_code}\")\n",
    "        return None"
   ]
  },
  {
   "cell_type": "code",
   "execution_count": null,
   "metadata": {
    "application/vnd.databricks.v1+cell": {
     "cellMetadata": {
      "byteLimit": 2048000,
      "rowLimit": 10000
     },
     "inputWidgets": {},
     "nuid": "0400fdbe-ad9a-4f90-9bb7-d969d53cd71a",
     "showTitle": false,
     "title": ""
    }
   },
   "outputs": [
    {
     "name": "stdout",
     "output_type": "stream",
     "text": [
      "[{'id': '606',\n",
      "  'resultados': [{'classificacoes': [{'categoria': {'6794': 'Total'},\n",
      "                                      'id': '2',\n",
      "                                      'nome': 'Sexo'},\n",
      "                                     {'categoria': {'49039': '2023'},\n",
      "                                      'id': '1933',\n",
      "                                      'nome': 'Ano'},\n",
      "                                     {'categoria': {'100362': 'Total'},\n",
      "                                      'id': '287',\n",
      "                                      'nome': 'Idade'}],\n",
      "                  'series': [{'localidade': {'id': '1',\n",
      "                                             'nivel': {'id': 'N1',\n",
      "                                                       'nome': 'Brasil'},\n",
      "                                             'nome': 'Brasil'},\n",
      "                              'serie': {'2018': '216284269'}},\n",
      "                             {'localidade': {'id': '11',\n",
      "                                             'nivel': {'id': 'N3',\n",
      "                                                       'nome': 'Unidade da '\n",
      "                                                               'Federação'},\n",
      "                                             'nome': 'Rondônia'},\n",
      "                              'serie': {'2018': '1851491'}},\n",
      "                             {'localidade': {'id': '12',\n",
      "                                             'nivel': {'id': 'N3',\n",
      "                                                       'nome': 'Unidade da '\n",
      "                                                               'Federação'},\n",
      "                                             'nome': 'Acre'},\n",
      "                              'serie': {'2018': '931268'}},\n",
      "                             {'localidade': {'id': '13',\n",
      "                                             'nivel': {'id': 'N3',\n",
      "                                                       'nome': 'Unidade da '\n",
      "                                                               'Federação'},\n",
      "                                             'nome': 'Amazonas'},\n",
      "                              'serie': {'2018': '4391960'}},\n",
      "                             {'localidade': {'id': '14',\n",
      "                                             'nivel': {'id': 'N3',\n",
      "                                                       'nome': 'Unidade da '\n",
      "                                                               'Federação'},\n",
      "                                             'nome': 'Roraima'},\n",
      "                              'serie': {'2018': '683769'}},\n",
      "                             {'localidade': {'id': '15',\n",
      "                                             'nivel': {'id': 'N3',\n",
      "                                                       'nome': 'Unidade da '\n",
      "                                                               'Federação'},\n",
      "                                             'nome': 'Pará'},\n",
      "                              'serie': {'2018': '8945219'}},\n",
      "                             {'localidade': {'id': '16',\n",
      "                                             'nivel': {'id': 'N3',\n",
      "                                                       'nome': 'Unidade da '\n",
      "                                                               'Federação'},\n",
      "                                             'nome': 'Amapá'},\n",
      "                              'serie': {'2018': '908689'}},\n",
      "                             {'localidade': {'id': '17',\n",
      "                                             'nivel': {'id': 'N3',\n",
      "                                                       'nome': 'Unidade da '\n",
      "                                                               'Federação'},\n",
      "                                             'nome': 'Tocantins'},\n",
      "                              'serie': {'2018': '1640666'}},\n",
      "                             {'localidade': {'id': '21',\n",
      "                                             'nivel': {'id': 'N3',\n",
      "                                                       'nome': 'Unidade da '\n",
      "                                                               'Federação'},\n",
      "                                             'nome': 'Maranhão'},\n",
      "                              'serie': {'2018': '7227850'}},\n",
      "                             {'localidade': {'id': '22',\n",
      "                                             'nivel': {'id': 'N3',\n",
      "                                                       'nome': 'Unidade da '\n",
      "                                                               'Federação'},\n",
      "                                             'nome': 'Piauí'},\n",
      "                              'serie': {'2018': '3302519'}},\n",
      "                             {'localidade': {'id': '23',\n",
      "                                             'nivel': {'id': 'N3',\n",
      "                                                       'nome': 'Unidade da '\n",
      "                                                               'Federação'},\n",
      "                                             'nome': 'Ceará'},\n",
      "                              'serie': {'2018': '9342908'}},\n",
      "                             {'localidade': {'id': '24',\n",
      "                                             'nivel': {'id': 'N3',\n",
      "                                                       'nome': 'Unidade da '\n",
      "                                                               'Federação'},\n",
      "                                             'nome': 'Rio Grande do Norte'},\n",
      "                              'serie': {'2018': '3612280'}},\n",
      "                             {'localidade': {'id': '25',\n",
      "                                             'nivel': {'id': 'N3',\n",
      "                                                       'nome': 'Unidade da '\n",
      "                                                               'Federação'},\n",
      "                                             'nome': 'Paraíba'},\n",
      "                              'serie': {'2018': '4099203'}},\n",
      "                             {'localidade': {'id': '26',\n",
      "                                             'nivel': {'id': 'N3',\n",
      "                                                       'nome': 'Unidade da '\n",
      "                                                               'Federação'},\n",
      "                                             'nome': 'Pernambuco'},\n",
      "                              'serie': {'2018': '9786666'}},\n",
      "                             {'localidade': {'id': '27',\n",
      "                                             'nivel': {'id': 'N3',\n",
      "                                                       'nome': 'Unidade da '\n",
      "                                                               'Federação'},\n",
      "                                             'nome': 'Alagoas'},\n",
      "                              'serie': {'2018': '3391204'}},\n",
      "                             {'localidade': {'id': '28',\n",
      "                                             'nivel': {'id': 'N3',\n",
      "                                                       'nome': 'Unidade da '\n",
      "                                                               'Federação'},\n",
      "                                             'nome': 'Sergipe'},\n",
      "                              'serie': {'2018': '2376447'}},\n",
      "                             {'localidade': {'id': '29',\n",
      "                                             'nivel': {'id': 'N3',\n",
      "                                                       'nome': 'Unidade da '\n",
      "                                                               'Federação'},\n",
      "                                             'nome': 'Bahia'},\n",
      "                              'serie': {'2018': '15084600'}},\n",
      "                             {'localidade': {'id': '31',\n",
      "                                             'nivel': {'id': 'N3',\n",
      "                                                       'nome': 'Unidade da '\n",
      "                                                               'Federação'},\n",
      "                                             'nome': 'Minas Gerais'},\n",
      "                              'serie': {'2018': '21634690'}},\n",
      "                             {'localidade': {'id': '32',\n",
      "                                             'nivel': {'id': 'N3',\n",
      "                                                       'nome': 'Unidade da '\n",
      "                                                               'Federação'},\n",
      "                                             'nome': 'Espírito Santo'},\n",
      "                              'serie': {'2018': '4194227'}},\n",
      "                             {'localidade': {'id': '33',\n",
      "                                             'nivel': {'id': 'N3',\n",
      "                                                       'nome': 'Unidade da '\n",
      "                                                               'Federação'},\n",
      "                                             'nome': 'Rio de Janeiro'},\n",
      "                              'serie': {'2018': '17644073'}},\n",
      "                             {'localidade': {'id': '35',\n",
      "                                             'nivel': {'id': 'N3',\n",
      "                                                       'nome': 'Unidade da '\n",
      "                                                               'Federação'},\n",
      "                                             'nome': 'São Paulo'},\n",
      "                              'serie': {'2018': '47333288'}},\n",
      "                             {'localidade': {'id': '41',\n",
      "                                             'nivel': {'id': 'N3',\n",
      "                                                       'nome': 'Unidade da '\n",
      "                                                               'Federação'},\n",
      "                                             'nome': 'Paraná'},\n",
      "                              'serie': {'2018': '11751111'}},\n",
      "                             {'localidade': {'id': '42',\n",
      "                                             'nivel': {'id': 'N3',\n",
      "                                                       'nome': 'Unidade da '\n",
      "                                                               'Federação'},\n",
      "                                             'nome': 'Santa Catarina'},\n",
      "                              'serie': {'2018': '7504322'}},\n",
      "                             {'localidade': {'id': '43',\n",
      "                                             'nivel': {'id': 'N3',\n",
      "                                                       'nome': 'Unidade da '\n",
      "                                                               'Federação'},\n",
      "                                             'nome': 'Rio Grande do Sul'},\n",
      "                              'serie': {'2018': '11546505'}},\n",
      "                             {'localidade': {'id': '50',\n",
      "                                             'nivel': {'id': 'N3',\n",
      "                                                       'nome': 'Unidade da '\n",
      "                                                               'Federação'},\n",
      "                                             'nome': 'Mato Grosso do Sul'},\n",
      "                              'serie': {'2018': '2896624'}},\n",
      "                             {'localidade': {'id': '51',\n",
      "                                             'nivel': {'id': 'N3',\n",
      "                                                       'nome': 'Unidade da '\n",
      "                                                               'Federação'},\n",
      "                                             'nome': 'Mato Grosso'},\n",
      "                              'serie': {'2018': '3646630'}},\n",
      "                             {'localidade': {'id': '52',\n",
      "                                             'nivel': {'id': 'N3',\n",
      "                                                       'nome': 'Unidade da '\n",
      "                                                               'Federação'},\n",
      "                                             'nome': 'Goiás'},\n",
      "                              'serie': {'2018': '7388558'}},\n",
      "                             {'localidade': {'id': '53',\n",
      "                                             'nivel': {'id': 'N3',\n",
      "                                                       'nome': 'Unidade da '\n",
      "                                                               'Federação'},\n",
      "                                             'nome': 'Distrito Federal'},\n",
      "                              'serie': {'2018': '3167502'}}]},\n",
      "                 {'classificacoes': [{'categoria': {'4': 'Homens'},\n",
      "                                      'id': '2',\n",
      "                                      'nome': 'Sexo'},\n",
      "                                     {'categoria': {'49039': '2023'},\n",
      "                                      'id': '1933',\n",
      "                                      'nome': 'Ano'},\n",
      "                                     {'categoria': {'100362': 'Total'},\n",
      "                                      'id': '287',\n",
      "                                      'nome': 'Idade'}],\n",
      "                  'series': [{'localidade': {'id': '1',\n",
      "                                             'nivel': {'id': 'N1',\n",
      "                                                       'nome': 'Brasil'},\n",
      "                                             'nome': 'Brasil'},\n",
      "                              'serie': {'2018': '105681529'}},\n",
      "                             {'localidade': {'id': '11',\n",
      "                                             'nivel': {'id': 'N3',\n",
      "                                                       'nome': 'Unidade da '\n",
      "                                                               'Federação'},\n",
      "                                             'nome': 'Rondônia'},\n",
      "                              'serie': {'2018': '933950'}},\n",
      "                             {'localidade': {'id': '12',\n",
      "                                             'nivel': {'id': 'N3',\n",
      "                                                       'nome': 'Unidade da '\n",
      "                                                               'Federação'},\n",
      "                                             'nome': 'Acre'},\n",
      "                              'serie': {'2018': '465226'}},\n",
      "                             {'localidade': {'id': '13',\n",
      "                                             'nivel': {'id': 'N3',\n",
      "                                                       'nome': 'Unidade da '\n",
      "                                                               'Federação'},\n",
      "                                             'nome': 'Amazonas'},\n",
      "                              'serie': {'2018': '2201917'}},\n",
      "                             {'localidade': {'id': '14',\n",
      "                                             'nivel': {'id': 'N3',\n",
      "                                                       'nome': 'Unidade da '\n",
      "                                                               'Federação'},\n",
      "                                             'nome': 'Roraima'},\n",
      "                              'serie': {'2018': '354735'}},\n",
      "                             {'localidade': {'id': '15',\n",
      "                                             'nivel': {'id': 'N3',\n",
      "                                                       'nome': 'Unidade da '\n",
      "                                                               'Federação'},\n",
      "                                             'nome': 'Pará'},\n",
      "                              'serie': {'2018': '4474611'}},\n",
      "                             {'localidade': {'id': '16',\n",
      "                                             'nivel': {'id': 'N3',\n",
      "                                                       'nome': 'Unidade da '\n",
      "                                                               'Federação'},\n",
      "                                             'nome': 'Amapá'},\n",
      "                              'serie': {'2018': '454864'}},\n",
      "                             {'localidade': {'id': '17',\n",
      "                                             'nivel': {'id': 'N3',\n",
      "                                                       'nome': 'Unidade da '\n",
      "                                                               'Federação'},\n",
      "                                             'nome': 'Tocantins'},\n",
      "                              'serie': {'2018': '823811'}},\n",
      "                             {'localidade': {'id': '21',\n",
      "                                             'nivel': {'id': 'N3',\n",
      "                                                       'nome': 'Unidade da '\n",
      "                                                               'Federação'},\n",
      "                                             'nome': 'Maranhão'},\n",
      "                              'serie': {'2018': '3544070'}},\n",
      "                             {'localidade': {'id': '22',\n",
      "                                             'nivel': {'id': 'N3',\n",
      "                                                       'nome': 'Unidade da '\n",
      "                                                               'Federação'},\n",
      "                                             'nome': 'Piauí'},\n",
      "                              'serie': {'2018': '1593632'}},\n",
      "                             {'localidade': {'id': '23',\n",
      "                                             'nivel': {'id': 'N3',\n",
      "                                                       'nome': 'Unidade da '\n",
      "                                                               'Federação'},\n",
      "                                             'nome': 'Ceará'},\n",
      "                              'serie': {'2018': '4525723'}},\n",
      "                             {'localidade': {'id': '24',\n",
      "                                             'nivel': {'id': 'N3',\n",
      "                                                       'nome': 'Unidade da '\n",
      "                                                               'Federação'},\n",
      "                                             'nome': 'Rio Grande do Norte'},\n",
      "                              'serie': {'2018': '1759460'}},\n",
      "                             {'localidade': {'id': '25',\n",
      "                                             'nivel': {'id': 'N3',\n",
      "                                                       'nome': 'Unidade da '\n",
      "                                                               'Federação'},\n",
      "                                             'nome': 'Paraíba'},\n",
      "                              'serie': {'2018': '1975675'}},\n",
      "                             {'localidade': {'id': '26',\n",
      "                                             'nivel': {'id': 'N3',\n",
      "                                                       'nome': 'Unidade da '\n",
      "                                                               'Federação'},\n",
      "                                             'nome': 'Pernambuco'},\n",
      "                              'serie': {'2018': '4696679'}},\n",
      "                             {'localidade': {'id': '27',\n",
      "                                             'nivel': {'id': 'N3',\n",
      "                                                       'nome': 'Unidade da '\n",
      "                                                               'Federação'},\n",
      "                                             'nome': 'Alagoas'},\n",
      "                              'serie': {'2018': '1620761'}},\n",
      "                             {'localidade': {'id': '28',\n",
      "                                             'nivel': {'id': 'N3',\n",
      "                                                       'nome': 'Unidade da '\n",
      "                                                               'Federação'},\n",
      "                                             'nome': 'Sergipe'},\n",
      "                              'serie': {'2018': '1144674'}},\n",
      "                             {'localidade': {'id': '29',\n",
      "                                             'nivel': {'id': 'N3',\n",
      "                                                       'nome': 'Unidade da '\n",
      "                                                               'Federação'},\n",
      "                                             'nome': 'Bahia'},\n",
      "                              'serie': {'2018': '7306926'}},\n",
      "                             {'localidade': {'id': '31',\n",
      "                                             'nivel': {'id': 'N3',\n",
      "                                                       'nome': 'Unidade da '\n",
      "                                                               'Federação'},\n",
      "                                             'nome': 'Minas Gerais'},\n",
      "                              'serie': {'2018': '10650110'}},\n",
      "                             {'localidade': {'id': '32',\n",
      "                                             'nivel': {'id': 'N3',\n",
      "                                                       'nome': 'Unidade da '\n",
      "                                                               'Federação'},\n",
      "                                             'nome': 'Espírito Santo'},\n",
      "                              'serie': {'2018': '2064032'}},\n",
      "                             {'localidade': {'id': '33',\n",
      "                                             'nivel': {'id': 'N3',\n",
      "                                                       'nome': 'Unidade da '\n",
      "                                                               'Federação'},\n",
      "                                             'nome': 'Rio de Janeiro'},\n",
      "                              'serie': {'2018': '8446747'}},\n",
      "                             {'localidade': {'id': '35',\n",
      "                                             'nivel': {'id': 'N3',\n",
      "                                                       'nome': 'Unidade da '\n",
      "                                                               'Federação'},\n",
      "                                             'nome': 'São Paulo'},\n",
      "                              'serie': {'2018': '23092856'}},\n",
      "                             {'localidade': {'id': '41',\n",
      "                                             'nivel': {'id': 'N3',\n",
      "                                                       'nome': 'Unidade da '\n",
      "                                                               'Federação'},\n",
      "                                             'nome': 'Paraná'},\n",
      "                              'serie': {'2018': '5749623'}},\n",
      "                             {'localidade': {'id': '42',\n",
      "                                             'nivel': {'id': 'N3',\n",
      "                                                       'nome': 'Unidade da '\n",
      "                                                               'Federação'},\n",
      "                                             'nome': 'Santa Catarina'},\n",
      "                              'serie': {'2018': '3722182'}},\n",
      "                             {'localidade': {'id': '43',\n",
      "                                             'nivel': {'id': 'N3',\n",
      "                                                       'nome': 'Unidade da '\n",
      "                                                               'Federação'},\n",
      "                                             'nome': 'Rio Grande do Sul'},\n",
      "                              'serie': {'2018': '5616964'}},\n",
      "                             {'localidade': {'id': '50',\n",
      "                                             'nivel': {'id': 'N3',\n",
      "                                                       'nome': 'Unidade da '\n",
      "                                                               'Federação'},\n",
      "                                             'nome': 'Mato Grosso do Sul'},\n",
      "                              'serie': {'2018': '1435384'}},\n",
      "                             {'localidade': {'id': '51',\n",
      "                                             'nivel': {'id': 'N3',\n",
      "                                                       'nome': 'Unidade da '\n",
      "                                                               'Federação'},\n",
      "                                             'nome': 'Mato Grosso'},\n",
      "                              'serie': {'2018': '1844116'}},\n",
      "                             {'localidade': {'id': '52',\n",
      "                                             'nivel': {'id': 'N3',\n",
      "                                                       'nome': 'Unidade da '\n",
      "                                                               'Federação'},\n",
      "                                             'nome': 'Goiás'},\n",
      "                              'serie': {'2018': '3659775'}},\n",
      "                             {'localidade': {'id': '53',\n",
      "                                             'nivel': {'id': 'N3',\n",
      "                                                       'nome': 'Unidade da '\n",
      "                                                               'Federação'},\n",
      "                                             'nome': 'Distrito Federal'},\n",
      "                              'serie': {'2018': '1523026'}}]},\n",
      "                 {'classificacoes': [{'categoria': {'5': 'Mulheres'},\n",
      "                                      'id': '2',\n",
      "                                      'nome': 'Sexo'},\n",
      "                                     {'categoria': {'49039': '2023'},\n",
      "                                      'id': '1933',\n",
      "                                      'nome': 'Ano'},\n",
      "                                     {'categoria': {'100362': 'Total'},\n",
      "                                      'id': '287',\n",
      "                                      'nome': 'Idade'}],\n",
      "                  'series': [{'localidade': {'id': '1',\n",
      "                                             'nivel': {'id': 'N1',\n",
      "                                                       'nome': 'Brasil'},\n",
      "                                             'nome': 'Brasil'},\n",
      "                              'serie': {'2018': '110602740'}},\n",
      "                             {'localidade': {'id': '11',\n",
      "                                             'nivel': {'id': 'N3',\n",
      "                                                       'nome': 'Unidade da '\n",
      "                                                               'Federação'},\n",
      "                                             'nome': 'Rondônia'},\n",
      "                              'serie': {'2018': '917541'}},\n",
      "                             {'localidade': {'id': '12',\n",
      "                                             'nivel': {'id': 'N3',\n",
      "                                                       'nome': 'Unidade da '\n",
      "                                                               'Federação'},\n",
      "                                             'nome': 'Acre'},\n",
      "                              'serie': {'2018': '466042'}},\n",
      "                             {'localidade': {'id': '13',\n",
      "                                             'nivel': {'id': 'N3',\n",
      "                                                       'nome': 'Unidade da '\n",
      "                                                               'Federação'},\n",
      "                                             'nome': 'Amazonas'},\n",
      "                              'serie': {'2018': '2190043'}},\n",
      "                             {'localidade': {'id': '14',\n",
      "                                             'nivel': {'id': 'N3',\n",
      "                                                       'nome': 'Unidade da '\n",
      "                                                               'Federação'},\n",
      "                                             'nome': 'Roraima'},\n",
      "                              'serie': {'2018': '329034'}},\n",
      "                             {'localidade': {'id': '15',\n",
      "                                             'nivel': {'id': 'N3',\n",
      "                                                       'nome': 'Unidade da '\n",
      "                                                               'Federação'},\n",
      "                                             'nome': 'Pará'},\n",
      "                              'serie': {'2018': '4470608'}},\n",
      "                             {'localidade': {'id': '16',\n",
      "                                             'nivel': {'id': 'N3',\n",
      "                                                       'nome': 'Unidade da '\n",
      "                                                               'Federação'},\n",
      "                                             'nome': 'Amapá'},\n",
      "                              'serie': {'2018': '453825'}},\n",
      "                             {'localidade': {'id': '17',\n",
      "                                             'nivel': {'id': 'N3',\n",
      "                                                       'nome': 'Unidade da '\n",
      "                                                               'Federação'},\n",
      "                                             'nome': 'Tocantins'},\n",
      "                              'serie': {'2018': '816855'}},\n",
      "                             {'localidade': {'id': '21',\n",
      "                                             'nivel': {'id': 'N3',\n",
      "                                                       'nome': 'Unidade da '\n",
      "                                                               'Federação'},\n",
      "                                             'nome': 'Maranhão'},\n",
      "                              'serie': {'2018': '3683780'}},\n",
      "                             {'localidade': {'id': '22',\n",
      "                                             'nivel': {'id': 'N3',\n",
      "                                                       'nome': 'Unidade da '\n",
      "                                                               'Federação'},\n",
      "                                             'nome': 'Piauí'},\n",
      "                              'serie': {'2018': '1708887'}},\n",
      "                             {'localidade': {'id': '23',\n",
      "                                             'nivel': {'id': 'N3',\n",
      "                                                       'nome': 'Unidade da '\n",
      "                                                               'Federação'},\n",
      "                                             'nome': 'Ceará'},\n",
      "                              'serie': {'2018': '4817185'}},\n",
      "                             {'localidade': {'id': '24',\n",
      "                                             'nivel': {'id': 'N3',\n",
      "                                                       'nome': 'Unidade da '\n",
      "                                                               'Federação'},\n",
      "                                             'nome': 'Rio Grande do Norte'},\n",
      "                              'serie': {'2018': '1852820'}},\n",
      "                             {'localidade': {'id': '25',\n",
      "                                             'nivel': {'id': 'N3',\n",
      "                                                       'nome': 'Unidade da '\n",
      "                                                               'Federação'},\n",
      "                                             'nome': 'Paraíba'},\n",
      "                              'serie': {'2018': '2123528'}},\n",
      "                             {'localidade': {'id': '26',\n",
      "                                             'nivel': {'id': 'N3',\n",
      "                                                       'nome': 'Unidade da '\n",
      "                                                               'Federação'},\n",
      "                                             'nome': 'Pernambuco'},\n",
      "                              'serie': {'2018': '5089987'}},\n",
      "                             {'localidade': {'id': '27',\n",
      "                                             'nivel': {'id': 'N3',\n",
      "                                                       'nome': 'Unidade da '\n",
      "                                                               'Federação'},\n",
      "                                             'nome': 'Alagoas'},\n",
      "                              'serie': {'2018': '1770443'}},\n",
      "                             {'localidade': {'id': '28',\n",
      "                                             'nivel': {'id': 'N3',\n",
      "                                                       'nome': 'Unidade da '\n",
      "                                                               'Federação'},\n",
      "                                             'nome': 'Sergipe'},\n",
      "                              'serie': {'2018': '1231773'}},\n",
      "                             {'localidade': {'id': '29',\n",
      "                                             'nivel': {'id': 'N3',\n",
      "                                                       'nome': 'Unidade da '\n",
      "                                                               'Federação'},\n",
      "                                             'nome': 'Bahia'},\n",
      "                              'serie': {'2018': '7777674'}},\n",
      "                             {'localidade': {'id': '31',\n",
      "                                             'nivel': {'id': 'N3',\n",
      "                                                       'nome': 'Unidade da '\n",
      "                                                               'Federação'},\n",
      "                                             'nome': 'Minas Gerais'},\n",
      "                              'serie': {'2018': '10984580'}},\n",
      "                             {'localidade': {'id': '32',\n",
      "                                             'nivel': {'id': 'N3',\n",
      "                                                       'nome': 'Unidade da '\n",
      "                                                               'Federação'},\n",
      "                                             'nome': 'Espírito Santo'},\n",
      "                              'serie': {'2018': '2130195'}},\n",
      "                             {'localidade': {'id': '33',\n",
      "                                             'nivel': {'id': 'N3',\n",
      "                                                       'nome': 'Unidade da '\n",
      "                                                               'Federação'},\n",
      "                                             'nome': 'Rio de Janeiro'},\n",
      "                              'serie': {'2018': '9197326'}},\n",
      "                             {'localidade': {'id': '35',\n",
      "                                             'nivel': {'id': 'N3',\n",
      "                                                       'nome': 'Unidade da '\n",
      "                                                               'Federação'},\n",
      "                                             'nome': 'São Paulo'},\n",
      "                              'serie': {'2018': '24240432'}},\n",
      "                             {'localidade': {'id': '41',\n",
      "                                             'nivel': {'id': 'N3',\n",
      "                                                       'nome': 'Unidade da '\n",
      "                                                               'Federação'},\n",
      "                                             'nome': 'Paraná'},\n",
      "                              'serie': {'2018': '6001488'}},\n",
      "                             {'localidade': {'id': '42',\n",
      "                                             'nivel': {'id': 'N3',\n",
      "                                                       'nome': 'Unidade da '\n",
      "                                                               'Federação'},\n",
      "                                             'nome': 'Santa Catarina'},\n",
      "                              'serie': {'2018': '3782140'}},\n",
      "                             {'localidade': {'id': '43',\n",
      "                                             'nivel': {'id': 'N3',\n",
      "                                                       'nome': 'Unidade da '\n",
      "                                                               'Federação'},\n",
      "                                             'nome': 'Rio Grande do Sul'},\n",
      "                              'serie': {'2018': '5929541'}},\n",
      "                             {'localidade': {'id': '50',\n",
      "                                             'nivel': {'id': 'N3',\n",
      "                                                       'nome': 'Unidade da '\n",
      "                                                               'Federação'},\n",
      "                                             'nome': 'Mato Grosso do Sul'},\n",
      "                              'serie': {'2018': '1461240'}},\n",
      "                             {'localidade': {'id': '51',\n",
      "                                             'nivel': {'id': 'N3',\n",
      "                                                       'nome': 'Unidade da '\n",
      "                                                               'Federação'},\n",
      "                                             'nome': 'Mato Grosso'},\n",
      "                              'serie': {'2018': '1802514'}},\n",
      "                             {'localidade': {'id': '52',\n",
      "                                             'nivel': {'id': 'N3',\n",
      "                                                       'nome': 'Unidade da '\n",
      "                                                               'Federação'},\n",
      "                                             'nome': 'Goiás'},\n",
      "                              'serie': {'2018': '3728783'}},\n",
      "                             {'localidade': {'id': '53',\n",
      "                                             'nivel': {'id': 'N3',\n",
      "                                                       'nome': 'Unidade da '\n",
      "                                                               'Federação'},\n",
      "                                             'nome': 'Distrito Federal'},\n",
      "                              'serie': {'2018': '1644476'}}]}],\n",
      "  'unidade': 'Pessoas',\n",
      "  'variavel': 'População'}]\n"
     ]
    }
   ],
   "source": [
    "# Exemplo: Obter dados de municípios\n",
    "municipios_data = get_ibge_data(\"agregados/7358/periodos/2018/variaveis/606?localidades=N1[all]|N3[all]&classificacao=2[all]|1933[49039]\")\n",
    "#df_municipios = spark.createDataFrame(municipios_data)\n",
    "#display(df_municipios)\n",
    "#print(municipios_data)\n",
    "pprint.pprint(municipios_data)"
   ]
  },
  {
   "cell_type": "code",
   "execution_count": null,
   "metadata": {
    "application/vnd.databricks.v1+cell": {
     "cellMetadata": {
      "byteLimit": 2048000,
      "rowLimit": 10000
     },
     "inputWidgets": {},
     "nuid": "0e58bf33-21f1-46ab-b44a-01afc353bf2e",
     "showTitle": false,
     "title": ""
    }
   },
   "outputs": [],
   "source": [
    "# municipios_data[0]"
   ]
  },
  {
   "cell_type": "code",
   "execution_count": null,
   "metadata": {
    "application/vnd.databricks.v1+cell": {
     "cellMetadata": {
      "byteLimit": 2048000,
      "rowLimit": 10000
     },
     "inputWidgets": {},
     "nuid": "a471e5ac-51cf-4a8e-8ff7-dd1736d66656",
     "showTitle": false,
     "title": ""
    }
   },
   "outputs": [
    {
     "data": {
      "text/plain": [
       "{'2018': '216284269'}"
      ]
     },
     "execution_count": 5,
     "metadata": {},
     "output_type": "execute_result"
    }
   ],
   "source": [
    "municipios_data[0]['resultados'][0]['series'][0]['serie']"
   ]
  },
  {
   "cell_type": "code",
   "execution_count": null,
   "metadata": {
    "application/vnd.databricks.v1+cell": {
     "cellMetadata": {
      "byteLimit": 2048000,
      "rowLimit": 10000
     },
     "inputWidgets": {},
     "nuid": "9cc90092-8128-4a0c-a0a0-6a8c945939d3",
     "showTitle": false,
     "title": ""
    }
   },
   "outputs": [],
   "source": [
    "dados = []\n",
    "pop = []\n",
    "ano = []\n",
    "tamanho = len(municipios_data[0]['resultados'][0]['series'])\n",
    "for i in range(tamanho):\n",
    "  dados.append(municipios_data[0]['resultados'][0]['series'][i]['localidade']['nome'])\n",
    "  pop.append(municipios_data[0]['resultados'][0]['series'][i]['serie']['2018'])\n",
    "  ano.append(list(municipios_data[0]['resultados'][0]['series'][i]['serie'])[0])\n",
    " # list(meu_dicionario.values())[0]\n"
   ]
  },
  {
   "cell_type": "code",
   "execution_count": null,
   "metadata": {
    "application/vnd.databricks.v1+cell": {
     "cellMetadata": {
      "byteLimit": 2048000,
      "rowLimit": 10000
     },
     "inputWidgets": {},
     "nuid": "c06ecb47-dfee-454c-a4d3-5bee982806a0",
     "showTitle": false,
     "title": ""
    }
   },
   "outputs": [],
   "source": [
    "dados_combinados = list(zip(dados, pop, ano))"
   ]
  },
  {
   "cell_type": "code",
   "execution_count": null,
   "metadata": {
    "application/vnd.databricks.v1+cell": {
     "cellMetadata": {
      "byteLimit": 2048000,
      "rowLimit": 10000
     },
     "inputWidgets": {},
     "nuid": "4010b5b5-b261-4395-8fac-7939ee859cf7",
     "showTitle": false,
     "title": ""
    }
   },
   "outputs": [
    {
     "name": "stdout",
     "output_type": "stream",
     "text": [
      "[('Brasil', '216284269', '2018'), ('Rondônia', '1851491', '2018'), ('Acre', '931268', '2018'), ('Amazonas', '4391960', '2018'), ('Roraima', '683769', '2018'), ('Pará', '8945219', '2018'), ('Amapá', '908689', '2018'), ('Tocantins', '1640666', '2018'), ('Maranhão', '7227850', '2018'), ('Piauí', '3302519', '2018'), ('Ceará', '9342908', '2018'), ('Rio Grande do Norte', '3612280', '2018'), ('Paraíba', '4099203', '2018'), ('Pernambuco', '9786666', '2018'), ('Alagoas', '3391204', '2018'), ('Sergipe', '2376447', '2018'), ('Bahia', '15084600', '2018'), ('Minas Gerais', '21634690', '2018'), ('Espírito Santo', '4194227', '2018'), ('Rio de Janeiro', '17644073', '2018'), ('São Paulo', '47333288', '2018'), ('Paraná', '11751111', '2018'), ('Santa Catarina', '7504322', '2018'), ('Rio Grande do Sul', '11546505', '2018'), ('Mato Grosso do Sul', '2896624', '2018'), ('Mato Grosso', '3646630', '2018'), ('Goiás', '7388558', '2018'), ('Distrito Federal', '3167502', '2018')]\n"
     ]
    }
   ],
   "source": [
    "print(dados_combinados)\n"
   ]
  },
  {
   "cell_type": "code",
   "execution_count": null,
   "metadata": {
    "application/vnd.databricks.v1+cell": {
     "cellMetadata": {
      "byteLimit": 2048000,
      "rowLimit": 10000
     },
     "inputWidgets": {},
     "nuid": "bfb45d08-bcf8-4b46-b833-3e05a47e1051",
     "showTitle": false,
     "title": ""
    }
   },
   "outputs": [],
   "source": [
    "schema = StructType([\n",
    "    StructField(\"localidade\", StringType(), True),\n",
    "    StructField(\"populacao\", StringType(), True),\n",
    "    StructField(\"ano\", StringType(), True),\n",
    "])\n",
    "\n",
    "df = spark.createDataFrame(dados_combinados, schema=schema)"
   ]
  },
  {
   "cell_type": "code",
   "execution_count": null,
   "metadata": {
    "application/vnd.databricks.v1+cell": {
     "cellMetadata": {
      "byteLimit": 2048000,
      "rowLimit": 10000
     },
     "inputWidgets": {},
     "nuid": "33b8ae14-bfee-49e2-a31f-c00f645f86c8",
     "showTitle": false,
     "title": ""
    }
   },
   "outputs": [
    {
     "data": {
      "text/html": [
       "<style scoped>\n",
       "  .table-result-container {\n",
       "    max-height: 300px;\n",
       "    overflow: auto;\n",
       "  }\n",
       "  table, th, td {\n",
       "    border: 1px solid black;\n",
       "    border-collapse: collapse;\n",
       "  }\n",
       "  th, td {\n",
       "    padding: 5px;\n",
       "  }\n",
       "  th {\n",
       "    text-align: left;\n",
       "  }\n",
       "</style><div class='table-result-container'><table class='table-result'><thead style='background-color: white'><tr><th>localidade</th><th>populacao</th><th>ano</th></tr></thead><tbody><tr><td>Brasil</td><td>216284269</td><td>2018</td></tr><tr><td>Rondônia</td><td>1851491</td><td>2018</td></tr><tr><td>Acre</td><td>931268</td><td>2018</td></tr><tr><td>Amazonas</td><td>4391960</td><td>2018</td></tr><tr><td>Roraima</td><td>683769</td><td>2018</td></tr><tr><td>Pará</td><td>8945219</td><td>2018</td></tr><tr><td>Amapá</td><td>908689</td><td>2018</td></tr><tr><td>Tocantins</td><td>1640666</td><td>2018</td></tr><tr><td>Maranhão</td><td>7227850</td><td>2018</td></tr><tr><td>Piauí</td><td>3302519</td><td>2018</td></tr><tr><td>Ceará</td><td>9342908</td><td>2018</td></tr><tr><td>Rio Grande do Norte</td><td>3612280</td><td>2018</td></tr><tr><td>Paraíba</td><td>4099203</td><td>2018</td></tr><tr><td>Pernambuco</td><td>9786666</td><td>2018</td></tr><tr><td>Alagoas</td><td>3391204</td><td>2018</td></tr><tr><td>Sergipe</td><td>2376447</td><td>2018</td></tr><tr><td>Bahia</td><td>15084600</td><td>2018</td></tr><tr><td>Minas Gerais</td><td>21634690</td><td>2018</td></tr><tr><td>Espírito Santo</td><td>4194227</td><td>2018</td></tr><tr><td>Rio de Janeiro</td><td>17644073</td><td>2018</td></tr><tr><td>São Paulo</td><td>47333288</td><td>2018</td></tr><tr><td>Paraná</td><td>11751111</td><td>2018</td></tr><tr><td>Santa Catarina</td><td>7504322</td><td>2018</td></tr><tr><td>Rio Grande do Sul</td><td>11546505</td><td>2018</td></tr><tr><td>Mato Grosso do Sul</td><td>2896624</td><td>2018</td></tr><tr><td>Mato Grosso</td><td>3646630</td><td>2018</td></tr><tr><td>Goiás</td><td>7388558</td><td>2018</td></tr><tr><td>Distrito Federal</td><td>3167502</td><td>2018</td></tr></tbody></table></div>"
      ]
     },
     "metadata": {
      "application/vnd.databricks.v1+output": {
       "addedWidgets": {},
       "aggData": [],
       "aggError": "",
       "aggOverflow": false,
       "aggSchema": [],
       "aggSeriesLimitReached": false,
       "aggType": "",
       "arguments": {},
       "columnCustomDisplayInfos": {},
       "data": [
        [
         "Brasil",
         "216284269",
         "2018"
        ],
        [
         "Rondônia",
         "1851491",
         "2018"
        ],
        [
         "Acre",
         "931268",
         "2018"
        ],
        [
         "Amazonas",
         "4391960",
         "2018"
        ],
        [
         "Roraima",
         "683769",
         "2018"
        ],
        [
         "Pará",
         "8945219",
         "2018"
        ],
        [
         "Amapá",
         "908689",
         "2018"
        ],
        [
         "Tocantins",
         "1640666",
         "2018"
        ],
        [
         "Maranhão",
         "7227850",
         "2018"
        ],
        [
         "Piauí",
         "3302519",
         "2018"
        ],
        [
         "Ceará",
         "9342908",
         "2018"
        ],
        [
         "Rio Grande do Norte",
         "3612280",
         "2018"
        ],
        [
         "Paraíba",
         "4099203",
         "2018"
        ],
        [
         "Pernambuco",
         "9786666",
         "2018"
        ],
        [
         "Alagoas",
         "3391204",
         "2018"
        ],
        [
         "Sergipe",
         "2376447",
         "2018"
        ],
        [
         "Bahia",
         "15084600",
         "2018"
        ],
        [
         "Minas Gerais",
         "21634690",
         "2018"
        ],
        [
         "Espírito Santo",
         "4194227",
         "2018"
        ],
        [
         "Rio de Janeiro",
         "17644073",
         "2018"
        ],
        [
         "São Paulo",
         "47333288",
         "2018"
        ],
        [
         "Paraná",
         "11751111",
         "2018"
        ],
        [
         "Santa Catarina",
         "7504322",
         "2018"
        ],
        [
         "Rio Grande do Sul",
         "11546505",
         "2018"
        ],
        [
         "Mato Grosso do Sul",
         "2896624",
         "2018"
        ],
        [
         "Mato Grosso",
         "3646630",
         "2018"
        ],
        [
         "Goiás",
         "7388558",
         "2018"
        ],
        [
         "Distrito Federal",
         "3167502",
         "2018"
        ]
       ],
       "datasetInfos": [],
       "dbfsResultPath": null,
       "isJsonSchema": true,
       "metadata": {},
       "overflow": false,
       "plotOptions": {
        "customPlotOptions": {},
        "displayType": "table",
        "pivotAggregation": null,
        "pivotColumns": null,
        "xColumns": null,
        "yColumns": null
       },
       "removedWidgets": [],
       "schema": [
        {
         "metadata": "{}",
         "name": "localidade",
         "type": "\"string\""
        },
        {
         "metadata": "{}",
         "name": "populacao",
         "type": "\"string\""
        },
        {
         "metadata": "{}",
         "name": "ano",
         "type": "\"string\""
        }
       ],
       "type": "table"
      }
     },
     "output_type": "display_data"
    }
   ],
   "source": [
    "display(df)"
   ]
  },
  {
   "cell_type": "code",
   "execution_count": null,
   "metadata": {
    "application/vnd.databricks.v1+cell": {
     "cellMetadata": {},
     "inputWidgets": {},
     "nuid": "bd4cb1bc-8f40-41cf-b6d2-d71c434e64e8",
     "showTitle": false,
     "title": ""
    }
   },
   "outputs": [],
   "source": []
  },
  {
   "cell_type": "code",
   "execution_count": null,
   "metadata": {
    "application/vnd.databricks.v1+cell": {
     "cellMetadata": {},
     "inputWidgets": {},
     "nuid": "c1c64c36-4436-4705-8932-9d38feb69521",
     "showTitle": false,
     "title": ""
    }
   },
   "outputs": [],
   "source": []
  }
 ],
 "metadata": {
  "application/vnd.databricks.v1+notebook": {
   "dashboards": [],
   "language": "python",
   "notebookMetadata": {
    "pythonIndentUnit": 2
   },
   "notebookName": "API's IBGE para obter dados de Localidade, População, PIB e IDH",
   "widgets": {}
  },
  "language_info": {
   "name": "python"
  }
 },
 "nbformat": 4,
 "nbformat_minor": 0
}
