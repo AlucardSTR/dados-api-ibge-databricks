{
 "cells": [
  {
   "cell_type": "code",
   "execution_count": 0,
   "metadata": {
    "application/vnd.databricks.v1+cell": {
     "cellMetadata": {
      "byteLimit": 2048000,
      "rowLimit": 10000
     },
     "inputWidgets": {},
     "nuid": "e1da0c77-4c4e-4bcc-80c6-42088e90f16c",
     "showTitle": false,
     "title": ""
    }
   },
   "outputs": [],
   "source": [
    "# %pip install requests"
   ]
  },
  {
   "cell_type": "code",
   "execution_count": 0,
   "metadata": {
    "application/vnd.databricks.v1+cell": {
     "cellMetadata": {
      "byteLimit": 2048000,
      "rowLimit": 10000
     },
     "inputWidgets": {},
     "nuid": "18557997-36ed-4feb-8a69-013634f38f7b",
     "showTitle": false,
     "title": ""
    }
   },
   "outputs": [],
   "source": [
    "import requests\n",
    "import pprint\n",
    "#from pyspark.sql.types import StructType, StructField, StringType, IntegerType, ArrayType\n",
    "import json\n",
    "from pyspark.sql.functions import col, explode"
   ]
  },
  {
   "cell_type": "code",
   "execution_count": 0,
   "metadata": {
    "application/vnd.databricks.v1+cell": {
     "cellMetadata": {
      "byteLimit": 2048000,
      "rowLimit": 10000
     },
     "inputWidgets": {},
     "nuid": "a301736e-4295-4944-88e4-bca89b61059c",
     "showTitle": false,
     "title": ""
    }
   },
   "outputs": [],
   "source": [
    "# Função para obter dados da API do IBGE\n",
    "def get_ibge_data(endpoint, params=None):\n",
    "    base_url = \"https://servicodados.ibge.gov.br/api/\"\n",
    "    url = f\"{base_url}{endpoint}\"\n",
    "    response = requests.get(url, params=params)\n",
    "\n",
    "    if response.status_code == 200:\n",
    "        dados = response.json()\n",
    "        return dados\n",
    "    else:\n",
    "        print(f\"Erro na requisição: {response.status_code}\")\n",
    "        return None"
   ]
  },
  {
   "cell_type": "code",
   "execution_count": 0,
   "metadata": {
    "application/vnd.databricks.v1+cell": {
     "cellMetadata": {
      "byteLimit": 2048000,
      "rowLimit": 10000
     },
     "inputWidgets": {},
     "nuid": "9865d29e-da7e-4d2b-a0e8-b713d0ac1b1d",
     "showTitle": false,
     "title": ""
    }
   },
   "outputs": [],
   "source": [
    "municipios = \"v1/localidades/municipios\"\n",
    "agregados = \"v3/agregados/7358/periodos/2018/variaveis/606?localidades=N1[all]|N3[all]&classificacao=2[all]|1933[49039]\"\n",
    "indicadores = \"v1/pesquisas/37/indicadores/30255/resultados/xxxxxx\" #\"v1/pesquisas/indicadores/30255/\"\n"
   ]
  },
  {
   "cell_type": "code",
   "execution_count": 0,
   "metadata": {
    "application/vnd.databricks.v1+cell": {
     "cellMetadata": {
      "byteLimit": 2048000,
      "rowLimit": 10000
     },
     "inputWidgets": {},
     "nuid": "0400fdbe-ad9a-4f90-9bb7-d969d53cd71a",
     "showTitle": false,
     "title": ""
    }
   },
   "outputs": [],
   "source": [
    "# Exemplo: Obter dados de municípios\n",
    "df_municipios = get_ibge_data(municipios)\n",
    "#df_municipios = spark.createDataFrame(df_municipios)\n",
    "#display(df_municipios)\n",
    "#print(municipios_data)\n",
    "\n"
   ]
  },
  {
   "cell_type": "code",
   "execution_count": 0,
   "metadata": {
    "application/vnd.databricks.v1+cell": {
     "cellMetadata": {
      "byteLimit": 2048000,
      "rowLimit": 10000
     },
     "inputWidgets": {},
     "nuid": "37fffa27-35a2-4dba-900a-9aa7839728f0",
     "showTitle": false,
     "title": ""
    }
   },
   "outputs": [],
   "source": [
    "# dbutils.fs.ls('dbfs:/FileStore/ibge/bronze/municipios/json_file.json')"
   ]
  },
  {
   "cell_type": "code",
   "execution_count": 0,
   "metadata": {
    "application/vnd.databricks.v1+cell": {
     "cellMetadata": {
      "byteLimit": 2048000,
      "rowLimit": 10000
     },
     "inputWidgets": {},
     "nuid": "c1876556-74ae-4166-86c9-8bc951a40ecd",
     "showTitle": false,
     "title": ""
    }
   },
   "outputs": [],
   "source": [
    "# df_municipios.write\\\n",
    "#               .mode('overwrite')\\\n",
    "#               .json(\"dbfs:/FileStore/ibge/bronze/municipios/json_file.json\")"
   ]
  },
  {
   "cell_type": "code",
   "execution_count": 0,
   "metadata": {
    "application/vnd.databricks.v1+cell": {
     "cellMetadata": {
      "byteLimit": 2048000,
      "rowLimit": 10000
     },
     "inputWidgets": {},
     "nuid": "7011c9e0-4a72-44fa-a27b-e68cfd563d67",
     "showTitle": false,
     "title": ""
    }
   },
   "outputs": [],
   "source": [
    "#dbutils.fs.ls(\"dbfs:/FileStore/ibge/bronze/municipios/json_file.json\")"
   ]
  },
  {
   "cell_type": "code",
   "execution_count": 0,
   "metadata": {
    "application/vnd.databricks.v1+cell": {
     "cellMetadata": {
      "byteLimit": 2048000,
      "rowLimit": 10000
     },
     "inputWidgets": {},
     "nuid": "daa265c9-c04b-4711-92f8-8e2b9bd3beb3",
     "showTitle": false,
     "title": ""
    }
   },
   "outputs": [],
   "source": [
    "# df_municipios = spark.read\\\n",
    "#                       .option('multiline', 'true')\\\n",
    "#                       .json(\"dbfs:/FileStore/ibge/bronze/municipios/json_file.json\")"
   ]
  },
  {
   "cell_type": "code",
   "execution_count": 0,
   "metadata": {
    "application/vnd.databricks.v1+cell": {
     "cellMetadata": {
      "byteLimit": 2048000,
      "rowLimit": 10000
     },
     "inputWidgets": {},
     "nuid": "bd2b29aa-96c6-46ab-b235-e48b52b8f72e",
     "showTitle": false,
     "title": ""
    }
   },
   "outputs": [],
   "source": [
    "#para transformar o df_json em multiline em ter que ler\n",
    "\n",
    "df_municipios = spark.read.option(\"multiline\", 'true').json(spark.sparkContext.parallelize([df_municipios]))\n"
   ]
  },
  {
   "cell_type": "code",
   "execution_count": 0,
   "metadata": {
    "application/vnd.databricks.v1+cell": {
     "cellMetadata": {
      "byteLimit": 2048000,
      "rowLimit": 10000
     },
     "inputWidgets": {},
     "nuid": "4bb67036-6a23-4aa7-9a16-45357f3b5b46",
     "showTitle": false,
     "title": ""
    }
   },
   "outputs": [],
   "source": [
    "df_municipios = df_municipios.select(\n",
    "\t\t\t       col(\"id\").alias(\"id_municipio\")\\\n",
    "            ,col(\"nome\").alias(\"nome_municipio\")\\\n",
    "            ,col(\"microrregiao.id\").alias(\"id_microrregiao\")\\\n",
    "            ,col(\"microrregiao.nome\").alias(\"nome_microrregiao\")\\\n",
    "            ,col(\"microrregiao.mesorregiao.id\").alias(\"id_mesorregiao\")\\\n",
    "            ,col(\"microrregiao.mesorregiao.nome\").alias(\"nome_mesorregiao\")\\\n",
    "            ,col(\"microrregiao.mesorregiao.uf.id\").alias(\"id_UF\")\\\n",
    "            ,col(\"microrregiao.mesorregiao.uf.sigla\").alias(\"sigla_UF\")\\\n",
    "            ,col(\"microrregiao.mesorregiao.uf.nome\").alias(\"nome_UF\")\\\n",
    "            ,col(\"microrregiao.mesorregiao.uf.regiao.id\").alias(\"id_regiao\")\\\n",
    "            ,col(\"microrregiao.mesorregiao.uf.regiao.sigla\").alias(\"sigla_regiao\")\\\n",
    "            ,col(\"microrregiao.mesorregiao.uf.regiao.nome\").alias(\"nome_regiao\")\\\n",
    "            ,col(\"regiao-imediata.id\").alias(\"id_regiao-imediata\")\\\n",
    "            ,col(\"regiao-imediata.nome\").alias(\"nome_regiao-imediata\")\\\n",
    "            ,col(\"regiao-imediata.regiao-intermediaria.id\").alias(\"id_regiao-intermediaria\")\\\n",
    "            ,col(\"regiao-imediata.regiao-intermediaria.nome\").alias(\"nome_regiao-intermediaria\"))"
   ]
  },
  {
   "cell_type": "code",
   "execution_count": 0,
   "metadata": {
    "application/vnd.databricks.v1+cell": {
     "cellMetadata": {
      "byteLimit": 2048000,
      "rowLimit": 10000
     },
     "inputWidgets": {},
     "nuid": "2b1fde1d-b095-4100-87b9-f7eebc972f32",
     "showTitle": false,
     "title": ""
    }
   },
   "outputs": [
    {
     "output_type": "display_data",
     "data": {
      "text/html": [
       "<style scoped>\n",
       "  .table-result-container {\n",
       "    max-height: 300px;\n",
       "    overflow: auto;\n",
       "  }\n",
       "  table, th, td {\n",
       "    border: 1px solid black;\n",
       "    border-collapse: collapse;\n",
       "  }\n",
       "  th, td {\n",
       "    padding: 5px;\n",
       "  }\n",
       "  th {\n",
       "    text-align: left;\n",
       "  }\n",
       "</style><div class='table-result-container'><table class='table-result'><thead style='background-color: white'><tr><th>id_municipio</th><th>nome_municipio</th><th>id_microrregiao</th><th>nome_microrregiao</th><th>id_mesorregiao</th><th>nome_mesorregiao</th><th>id_UF</th><th>sigla_UF</th><th>nome_UF</th><th>id_regiao</th><th>sigla_regiao</th><th>nome_regiao</th><th>id_regiao-imediata</th><th>nome_regiao-imediata</th><th>id_regiao-intermediaria</th><th>nome_regiao-intermediaria</th></tr></thead><tbody><tr><td>1100015</td><td>Alta Floresta D'Oeste</td><td>11006</td><td>Cacoal</td><td>1102</td><td>Leste Rondoniense</td><td>11</td><td>RO</td><td>Rondônia</td><td>1</td><td>N</td><td>Norte</td><td>110005</td><td>Cacoal</td><td>1102</td><td>Ji-Paraná</td></tr><tr><td>1100023</td><td>Ariquemes</td><td>11003</td><td>Ariquemes</td><td>1102</td><td>Leste Rondoniense</td><td>11</td><td>RO</td><td>Rondônia</td><td>1</td><td>N</td><td>Norte</td><td>110002</td><td>Ariquemes</td><td>1101</td><td>Porto Velho</td></tr><tr><td>1100031</td><td>Cabixi</td><td>11008</td><td>Colorado do Oeste</td><td>1102</td><td>Leste Rondoniense</td><td>11</td><td>RO</td><td>Rondônia</td><td>1</td><td>N</td><td>Norte</td><td>110006</td><td>Vilhena</td><td>1102</td><td>Ji-Paraná</td></tr><tr><td>1100049</td><td>Cacoal</td><td>11006</td><td>Cacoal</td><td>1102</td><td>Leste Rondoniense</td><td>11</td><td>RO</td><td>Rondônia</td><td>1</td><td>N</td><td>Norte</td><td>110005</td><td>Cacoal</td><td>1102</td><td>Ji-Paraná</td></tr><tr><td>1100056</td><td>Cerejeiras</td><td>11008</td><td>Colorado do Oeste</td><td>1102</td><td>Leste Rondoniense</td><td>11</td><td>RO</td><td>Rondônia</td><td>1</td><td>N</td><td>Norte</td><td>110006</td><td>Vilhena</td><td>1102</td><td>Ji-Paraná</td></tr><tr><td>1100064</td><td>Colorado do Oeste</td><td>11008</td><td>Colorado do Oeste</td><td>1102</td><td>Leste Rondoniense</td><td>11</td><td>RO</td><td>Rondônia</td><td>1</td><td>N</td><td>Norte</td><td>110006</td><td>Vilhena</td><td>1102</td><td>Ji-Paraná</td></tr><tr><td>1100072</td><td>Corumbiara</td><td>11008</td><td>Colorado do Oeste</td><td>1102</td><td>Leste Rondoniense</td><td>11</td><td>RO</td><td>Rondônia</td><td>1</td><td>N</td><td>Norte</td><td>110006</td><td>Vilhena</td><td>1102</td><td>Ji-Paraná</td></tr><tr><td>1100080</td><td>Costa Marques</td><td>11002</td><td>Guajará-Mirim</td><td>1101</td><td>Madeira-Guaporé</td><td>11</td><td>RO</td><td>Rondônia</td><td>1</td><td>N</td><td>Norte</td><td>110004</td><td>Ji-Paraná</td><td>1102</td><td>Ji-Paraná</td></tr><tr><td>1100098</td><td>Espigão D'Oeste</td><td>11006</td><td>Cacoal</td><td>1102</td><td>Leste Rondoniense</td><td>11</td><td>RO</td><td>Rondônia</td><td>1</td><td>N</td><td>Norte</td><td>110005</td><td>Cacoal</td><td>1102</td><td>Ji-Paraná</td></tr><tr><td>1100106</td><td>Guajará-Mirim</td><td>11002</td><td>Guajará-Mirim</td><td>1101</td><td>Madeira-Guaporé</td><td>11</td><td>RO</td><td>Rondônia</td><td>1</td><td>N</td><td>Norte</td><td>110001</td><td>Porto Velho</td><td>1101</td><td>Porto Velho</td></tr><tr><td>1100114</td><td>Jaru</td><td>11004</td><td>Ji-Paraná</td><td>1102</td><td>Leste Rondoniense</td><td>11</td><td>RO</td><td>Rondônia</td><td>1</td><td>N</td><td>Norte</td><td>110003</td><td>Jaru</td><td>1101</td><td>Porto Velho</td></tr><tr><td>1100122</td><td>Ji-Paraná</td><td>11004</td><td>Ji-Paraná</td><td>1102</td><td>Leste Rondoniense</td><td>11</td><td>RO</td><td>Rondônia</td><td>1</td><td>N</td><td>Norte</td><td>110004</td><td>Ji-Paraná</td><td>1102</td><td>Ji-Paraná</td></tr><tr><td>1100130</td><td>Machadinho D'Oeste</td><td>11003</td><td>Ariquemes</td><td>1102</td><td>Leste Rondoniense</td><td>11</td><td>RO</td><td>Rondônia</td><td>1</td><td>N</td><td>Norte</td><td>110003</td><td>Jaru</td><td>1101</td><td>Porto Velho</td></tr><tr><td>1100148</td><td>Nova Brasilândia D'Oeste</td><td>11005</td><td>Alvorada D'Oeste</td><td>1102</td><td>Leste Rondoniense</td><td>11</td><td>RO</td><td>Rondônia</td><td>1</td><td>N</td><td>Norte</td><td>110005</td><td>Cacoal</td><td>1102</td><td>Ji-Paraná</td></tr><tr><td>1100155</td><td>Ouro Preto do Oeste</td><td>11004</td><td>Ji-Paraná</td><td>1102</td><td>Leste Rondoniense</td><td>11</td><td>RO</td><td>Rondônia</td><td>1</td><td>N</td><td>Norte</td><td>110004</td><td>Ji-Paraná</td><td>1102</td><td>Ji-Paraná</td></tr></tbody></table></div>"
      ]
     },
     "metadata": {
      "application/vnd.databricks.v1+output": {
       "addedWidgets": {},
       "aggData": [],
       "aggError": "",
       "aggOverflow": false,
       "aggSchema": [],
       "aggSeriesLimitReached": false,
       "aggType": "",
       "arguments": {},
       "columnCustomDisplayInfos": {},
       "data": [
        [
         1100015,
         "Alta Floresta D'Oeste",
         11006,
         "Cacoal",
         1102,
         "Leste Rondoniense",
         11,
         "RO",
         "Rondônia",
         1,
         "N",
         "Norte",
         110005,
         "Cacoal",
         1102,
         "Ji-Paraná"
        ],
        [
         1100023,
         "Ariquemes",
         11003,
         "Ariquemes",
         1102,
         "Leste Rondoniense",
         11,
         "RO",
         "Rondônia",
         1,
         "N",
         "Norte",
         110002,
         "Ariquemes",
         1101,
         "Porto Velho"
        ],
        [
         1100031,
         "Cabixi",
         11008,
         "Colorado do Oeste",
         1102,
         "Leste Rondoniense",
         11,
         "RO",
         "Rondônia",
         1,
         "N",
         "Norte",
         110006,
         "Vilhena",
         1102,
         "Ji-Paraná"
        ],
        [
         1100049,
         "Cacoal",
         11006,
         "Cacoal",
         1102,
         "Leste Rondoniense",
         11,
         "RO",
         "Rondônia",
         1,
         "N",
         "Norte",
         110005,
         "Cacoal",
         1102,
         "Ji-Paraná"
        ],
        [
         1100056,
         "Cerejeiras",
         11008,
         "Colorado do Oeste",
         1102,
         "Leste Rondoniense",
         11,
         "RO",
         "Rondônia",
         1,
         "N",
         "Norte",
         110006,
         "Vilhena",
         1102,
         "Ji-Paraná"
        ],
        [
         1100064,
         "Colorado do Oeste",
         11008,
         "Colorado do Oeste",
         1102,
         "Leste Rondoniense",
         11,
         "RO",
         "Rondônia",
         1,
         "N",
         "Norte",
         110006,
         "Vilhena",
         1102,
         "Ji-Paraná"
        ],
        [
         1100072,
         "Corumbiara",
         11008,
         "Colorado do Oeste",
         1102,
         "Leste Rondoniense",
         11,
         "RO",
         "Rondônia",
         1,
         "N",
         "Norte",
         110006,
         "Vilhena",
         1102,
         "Ji-Paraná"
        ],
        [
         1100080,
         "Costa Marques",
         11002,
         "Guajará-Mirim",
         1101,
         "Madeira-Guaporé",
         11,
         "RO",
         "Rondônia",
         1,
         "N",
         "Norte",
         110004,
         "Ji-Paraná",
         1102,
         "Ji-Paraná"
        ],
        [
         1100098,
         "Espigão D'Oeste",
         11006,
         "Cacoal",
         1102,
         "Leste Rondoniense",
         11,
         "RO",
         "Rondônia",
         1,
         "N",
         "Norte",
         110005,
         "Cacoal",
         1102,
         "Ji-Paraná"
        ],
        [
         1100106,
         "Guajará-Mirim",
         11002,
         "Guajará-Mirim",
         1101,
         "Madeira-Guaporé",
         11,
         "RO",
         "Rondônia",
         1,
         "N",
         "Norte",
         110001,
         "Porto Velho",
         1101,
         "Porto Velho"
        ],
        [
         1100114,
         "Jaru",
         11004,
         "Ji-Paraná",
         1102,
         "Leste Rondoniense",
         11,
         "RO",
         "Rondônia",
         1,
         "N",
         "Norte",
         110003,
         "Jaru",
         1101,
         "Porto Velho"
        ],
        [
         1100122,
         "Ji-Paraná",
         11004,
         "Ji-Paraná",
         1102,
         "Leste Rondoniense",
         11,
         "RO",
         "Rondônia",
         1,
         "N",
         "Norte",
         110004,
         "Ji-Paraná",
         1102,
         "Ji-Paraná"
        ],
        [
         1100130,
         "Machadinho D'Oeste",
         11003,
         "Ariquemes",
         1102,
         "Leste Rondoniense",
         11,
         "RO",
         "Rondônia",
         1,
         "N",
         "Norte",
         110003,
         "Jaru",
         1101,
         "Porto Velho"
        ],
        [
         1100148,
         "Nova Brasilândia D'Oeste",
         11005,
         "Alvorada D'Oeste",
         1102,
         "Leste Rondoniense",
         11,
         "RO",
         "Rondônia",
         1,
         "N",
         "Norte",
         110005,
         "Cacoal",
         1102,
         "Ji-Paraná"
        ],
        [
         1100155,
         "Ouro Preto do Oeste",
         11004,
         "Ji-Paraná",
         1102,
         "Leste Rondoniense",
         11,
         "RO",
         "Rondônia",
         1,
         "N",
         "Norte",
         110004,
         "Ji-Paraná",
         1102,
         "Ji-Paraná"
        ]
       ],
       "datasetInfos": [],
       "dbfsResultPath": null,
       "isJsonSchema": true,
       "metadata": {},
       "overflow": false,
       "plotOptions": {
        "customPlotOptions": {},
        "displayType": "table",
        "pivotAggregation": null,
        "pivotColumns": null,
        "xColumns": null,
        "yColumns": null
       },
       "removedWidgets": [],
       "schema": [
        {
         "metadata": "{}",
         "name": "id_municipio",
         "type": "\"long\""
        },
        {
         "metadata": "{}",
         "name": "nome_municipio",
         "type": "\"string\""
        },
        {
         "metadata": "{}",
         "name": "id_microrregiao",
         "type": "\"long\""
        },
        {
         "metadata": "{}",
         "name": "nome_microrregiao",
         "type": "\"string\""
        },
        {
         "metadata": "{}",
         "name": "id_mesorregiao",
         "type": "\"long\""
        },
        {
         "metadata": "{}",
         "name": "nome_mesorregiao",
         "type": "\"string\""
        },
        {
         "metadata": "{}",
         "name": "id_UF",
         "type": "\"long\""
        },
        {
         "metadata": "{}",
         "name": "sigla_UF",
         "type": "\"string\""
        },
        {
         "metadata": "{}",
         "name": "nome_UF",
         "type": "\"string\""
        },
        {
         "metadata": "{}",
         "name": "id_regiao",
         "type": "\"long\""
        },
        {
         "metadata": "{}",
         "name": "sigla_regiao",
         "type": "\"string\""
        },
        {
         "metadata": "{}",
         "name": "nome_regiao",
         "type": "\"string\""
        },
        {
         "metadata": "{}",
         "name": "id_regiao-imediata",
         "type": "\"long\""
        },
        {
         "metadata": "{}",
         "name": "nome_regiao-imediata",
         "type": "\"string\""
        },
        {
         "metadata": "{}",
         "name": "id_regiao-intermediaria",
         "type": "\"long\""
        },
        {
         "metadata": "{}",
         "name": "nome_regiao-intermediaria",
         "type": "\"string\""
        }
       ],
       "type": "table"
      }
     },
     "output_type": "display_data"
    }
   ],
   "source": [
    "df_municipios.limit(15).display()"
   ]
  },
  {
   "cell_type": "code",
   "execution_count": 0,
   "metadata": {
    "application/vnd.databricks.v1+cell": {
     "cellMetadata": {
      "byteLimit": 2048000,
      "rowLimit": 10000
     },
     "inputWidgets": {},
     "nuid": "e1290287-d58f-4073-83a3-0e6187da5a88",
     "showTitle": false,
     "title": ""
    }
   },
   "outputs": [],
   "source": [
    "df_agregados = get_ibge_data(agregados)\n",
    "#df_agregados = spark.createDataFrame(df_agregados)"
   ]
  },
  {
   "cell_type": "code",
   "execution_count": 0,
   "metadata": {
    "application/vnd.databricks.v1+cell": {
     "cellMetadata": {
      "byteLimit": 2048000,
      "rowLimit": 10000
     },
     "inputWidgets": {},
     "nuid": "99bbaf37-b25b-4475-a8a3-ef186438c64e",
     "showTitle": false,
     "title": ""
    }
   },
   "outputs": [],
   "source": [
    "df_agregados = spark.read.option(\"multiline\", 'true').json(spark.sparkContext.parallelize([df_agregados]))"
   ]
  },
  {
   "cell_type": "code",
   "execution_count": 0,
   "metadata": {
    "application/vnd.databricks.v1+cell": {
     "cellMetadata": {
      "byteLimit": 2048000,
      "rowLimit": 10000
     },
     "inputWidgets": {},
     "nuid": "d8c2dd8b-e852-44f8-b73c-1b18b81767fb",
     "showTitle": false,
     "title": ""
    }
   },
   "outputs": [],
   "source": [
    "df_agregados = df_agregados.withColumn(\"resultados_explode\", explode(\"resultados\"))\\\n",
    "                            .drop(\"resultados\")"
   ]
  },
  {
   "cell_type": "code",
   "execution_count": 0,
   "metadata": {
    "application/vnd.databricks.v1+cell": {
     "cellMetadata": {
      "byteLimit": 2048000,
      "rowLimit": 10000
     },
     "inputWidgets": {},
     "nuid": "cc7b8607-05cb-43c6-b753-d4990f141da3",
     "showTitle": false,
     "title": ""
    }
   },
   "outputs": [],
   "source": [
    "df_agregados = df_agregados.withColumn(\"resultados_explode_series\", explode(\"resultados_explode.series\"))"
   ]
  },
  {
   "cell_type": "code",
   "execution_count": 0,
   "metadata": {
    "application/vnd.databricks.v1+cell": {
     "cellMetadata": {
      "byteLimit": 2048000,
      "rowLimit": 10000
     },
     "inputWidgets": {},
     "nuid": "25e8d447-78a2-4d01-a808-6927632e8477",
     "showTitle": false,
     "title": ""
    }
   },
   "outputs": [],
   "source": [
    "df_agregados = df_agregados.select(\n",
    "\t\t\t       col(\"resultados_explode_series.localidade.id\").alias(\"id_UF\")\\\n",
    "            ,col(\"resultados_explode_series.localidade.nome\").alias(\"nome_UF\")\\\n",
    "            ,col(\"resultados_explode_series.serie.2018\").alias(\"qtd_populacao\"))\n",
    "            \n"
   ]
  },
  {
   "cell_type": "code",
   "execution_count": 0,
   "metadata": {
    "application/vnd.databricks.v1+cell": {
     "cellMetadata": {
      "byteLimit": 2048000,
      "rowLimit": 10000
     },
     "inputWidgets": {},
     "nuid": "3c593f16-00bd-4c6d-9c65-51e6c8025522",
     "showTitle": false,
     "title": ""
    }
   },
   "outputs": [
    {
     "output_type": "display_data",
     "data": {
      "text/html": [
       "<style scoped>\n",
       "  .table-result-container {\n",
       "    max-height: 300px;\n",
       "    overflow: auto;\n",
       "  }\n",
       "  table, th, td {\n",
       "    border: 1px solid black;\n",
       "    border-collapse: collapse;\n",
       "  }\n",
       "  th, td {\n",
       "    padding: 5px;\n",
       "  }\n",
       "  th {\n",
       "    text-align: left;\n",
       "  }\n",
       "</style><div class='table-result-container'><table class='table-result'><thead style='background-color: white'><tr><th>id_UF</th><th>nome_UF</th><th>qtd_populacao</th></tr></thead><tbody><tr><td>1</td><td>Brasil</td><td>216284269</td></tr><tr><td>11</td><td>Rondônia</td><td>1851491</td></tr><tr><td>12</td><td>Acre</td><td>931268</td></tr><tr><td>13</td><td>Amazonas</td><td>4391960</td></tr><tr><td>14</td><td>Roraima</td><td>683769</td></tr><tr><td>15</td><td>Pará</td><td>8945219</td></tr><tr><td>16</td><td>Amapá</td><td>908689</td></tr><tr><td>17</td><td>Tocantins</td><td>1640666</td></tr><tr><td>21</td><td>Maranhão</td><td>7227850</td></tr><tr><td>22</td><td>Piauí</td><td>3302519</td></tr><tr><td>23</td><td>Ceará</td><td>9342908</td></tr><tr><td>24</td><td>Rio Grande do Norte</td><td>3612280</td></tr><tr><td>25</td><td>Paraíba</td><td>4099203</td></tr><tr><td>26</td><td>Pernambuco</td><td>9786666</td></tr><tr><td>27</td><td>Alagoas</td><td>3391204</td></tr></tbody></table></div>"
      ]
     },
     "metadata": {
      "application/vnd.databricks.v1+output": {
       "addedWidgets": {},
       "aggData": [],
       "aggError": "",
       "aggOverflow": false,
       "aggSchema": [],
       "aggSeriesLimitReached": false,
       "aggType": "",
       "arguments": {},
       "columnCustomDisplayInfos": {},
       "data": [
        [
         "1",
         "Brasil",
         "216284269"
        ],
        [
         "11",
         "Rondônia",
         "1851491"
        ],
        [
         "12",
         "Acre",
         "931268"
        ],
        [
         "13",
         "Amazonas",
         "4391960"
        ],
        [
         "14",
         "Roraima",
         "683769"
        ],
        [
         "15",
         "Pará",
         "8945219"
        ],
        [
         "16",
         "Amapá",
         "908689"
        ],
        [
         "17",
         "Tocantins",
         "1640666"
        ],
        [
         "21",
         "Maranhão",
         "7227850"
        ],
        [
         "22",
         "Piauí",
         "3302519"
        ],
        [
         "23",
         "Ceará",
         "9342908"
        ],
        [
         "24",
         "Rio Grande do Norte",
         "3612280"
        ],
        [
         "25",
         "Paraíba",
         "4099203"
        ],
        [
         "26",
         "Pernambuco",
         "9786666"
        ],
        [
         "27",
         "Alagoas",
         "3391204"
        ]
       ],
       "datasetInfos": [],
       "dbfsResultPath": null,
       "isJsonSchema": true,
       "metadata": {},
       "overflow": false,
       "plotOptions": {
        "customPlotOptions": {},
        "displayType": "table",
        "pivotAggregation": null,
        "pivotColumns": null,
        "xColumns": null,
        "yColumns": null
       },
       "removedWidgets": [],
       "schema": [
        {
         "metadata": "{}",
         "name": "id_UF",
         "type": "\"string\""
        },
        {
         "metadata": "{}",
         "name": "nome_UF",
         "type": "\"string\""
        },
        {
         "metadata": "{}",
         "name": "qtd_populacao",
         "type": "\"string\""
        }
       ],
       "type": "table"
      }
     },
     "output_type": "display_data"
    }
   ],
   "source": [
    "df_agregados.limit(15).display()"
   ]
  },
  {
   "cell_type": "code",
   "execution_count": 0,
   "metadata": {
    "application/vnd.databricks.v1+cell": {
     "cellMetadata": {
      "byteLimit": 2048000,
      "rowLimit": 10000
     },
     "inputWidgets": {},
     "nuid": "6c5d83f1-b78b-4b5d-bc4a-56a22fd11823",
     "showTitle": false,
     "title": ""
    }
   },
   "outputs": [],
   "source": [
    "# df_indicadores.write\\\n",
    "#               .format('json')\\\n",
    "#               .mode('overwrite')\\\n",
    "#               .save(\"dbfs:/FileStore/ibge/bronze/indicadores_IDH.json_file.json\")"
   ]
  },
  {
   "cell_type": "code",
   "execution_count": 0,
   "metadata": {
    "application/vnd.databricks.v1+cell": {
     "cellMetadata": {
      "byteLimit": 2048000,
      "rowLimit": 10000
     },
     "inputWidgets": {},
     "nuid": "10f46033-7aaa-4d08-a15b-5fba72603feb",
     "showTitle": false,
     "title": ""
    }
   },
   "outputs": [],
   "source": [
    "# df_indicadores = spark.read\\\n",
    "#               .format('json')\\\n",
    "#               .option('multiline')\\\n",
    "#               .save(\"dbfs:/FileStore/ibge/bronze/indicadores_IDH.json_file.json\")"
   ]
  },
  {
   "cell_type": "code",
   "execution_count": 0,
   "metadata": {
    "application/vnd.databricks.v1+cell": {
     "cellMetadata": {
      "byteLimit": 2048000,
      "rowLimit": 10000
     },
     "inputWidgets": {},
     "nuid": "03c62fe1-df38-44cb-8385-67d5abfd9283",
     "showTitle": false,
     "title": ""
    }
   },
   "outputs": [],
   "source": [
    "#para transformar o df_json em multiline em ter que ler\n",
    "\n",
    "#df_indicadores = spark.read.option(\"multiline\", 'true').json(spark.sparkContext.parallelize([df_indicadores]))"
   ]
  },
  {
   "cell_type": "code",
   "execution_count": 0,
   "metadata": {
    "application/vnd.databricks.v1+cell": {
     "cellMetadata": {
      "byteLimit": 2048000,
      "rowLimit": 10000
     },
     "inputWidgets": {},
     "nuid": "d9f78f2f-8c09-4c1e-8f00-bd301b6aa274",
     "showTitle": false,
     "title": ""
    }
   },
   "outputs": [],
   "source": [
    "#display(df_flat_indicadores)"
   ]
  },
  {
   "cell_type": "code",
   "execution_count": 0,
   "metadata": {
    "application/vnd.databricks.v1+cell": {
     "cellMetadata": {
      "byteLimit": 2048000,
      "rowLimit": 10000
     },
     "inputWidgets": {},
     "nuid": "f0e141fc-5b7c-49bd-8691-74867f8ee9ce",
     "showTitle": false,
     "title": ""
    }
   },
   "outputs": [],
   "source": []
  },
  {
   "cell_type": "code",
   "execution_count": 0,
   "metadata": {
    "application/vnd.databricks.v1+cell": {
     "cellMetadata": {
      "byteLimit": 2048000,
      "rowLimit": 10000
     },
     "inputWidgets": {},
     "nuid": "ae760e46-fa0e-45ff-b4e5-a415db0b488d",
     "showTitle": false,
     "title": ""
    }
   },
   "outputs": [],
   "source": []
  },
  {
   "cell_type": "code",
   "execution_count": 0,
   "metadata": {
    "application/vnd.databricks.v1+cell": {
     "cellMetadata": {
      "byteLimit": 2048000,
      "rowLimit": 10000
     },
     "inputWidgets": {},
     "nuid": "25a498a9-f9f8-4877-9557-550a6542751b",
     "showTitle": false,
     "title": ""
    }
   },
   "outputs": [],
   "source": []
  }
 ],
 "metadata": {
  "application/vnd.databricks.v1+notebook": {
   "dashboards": [],
   "language": "python",
   "notebookMetadata": {
    "pythonIndentUnit": 2
   },
   "notebookName": "API's IBGE para obter dados de Localidade, População, PIB e IDH",
   "widgets": {}
  }
 },
 "nbformat": 4,
 "nbformat_minor": 0
}
